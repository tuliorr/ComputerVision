{
  "cells": [
    {
      "cell_type": "markdown",
      "metadata": {},
      "source": [
        "# Packages"
      ]
    },
    {
      "cell_type": "code",
      "execution_count": 2,
      "metadata": {},
      "outputs": [],
      "source": [
        "import numpy as np\n",
        "from sklearn.decomposition import PCA\n",
        "from sklearn.datasets import load_iris\n",
        "from sklearn.linear_model import Perceptron\n",
        "from sklearn.model_selection import train_test_split\n",
        "from sklearn.metrics import accuracy_score, root_mean_squared_error"
      ]
    },
    {
      "cell_type": "markdown",
      "metadata": {},
      "source": [
        "# 1. Dataset"
      ]
    },
    {
      "cell_type": "code",
      "execution_count": 3,
      "metadata": {},
      "outputs": [],
      "source": [
        "iris = load_iris()\n",
        "X, y = iris.data, iris.target"
      ]
    },
    {
      "cell_type": "markdown",
      "metadata": {
        "id": "GoKFiqZ1jOu4"
      },
      "source": [
        "# 2. Perceptron"
      ]
    },
    {
      "cell_type": "markdown",
      "metadata": {
        "id": "jmCvRkpZmNVZ"
      },
      "source": [
        "## 2.1 Using all features"
      ]
    },
    {
      "cell_type": "code",
      "execution_count": 4,
      "metadata": {
        "colab": {
          "base_uri": "https://localhost:8080/"
        },
        "id": "9KThx_CUiWOI",
        "outputId": "8deddc74-ab1c-4a91-b7bf-099d6ad322b3"
      },
      "outputs": [
        {
          "name": "stdout",
          "output_type": "stream",
          "text": [
            "Accuracy: 0.8\n",
            "RMSE: 0.4472135954999579\n"
          ]
        }
      ],
      "source": [
        "X_train, X_test, y_train, y_test = train_test_split(X, y, test_size=0.2, random_state=42)\n",
        "\n",
        "perceptron = Perceptron()\n",
        "perceptron.fit(X_train, y_train)\n",
        "\n",
        "y_pred = perceptron.predict(X_test)\n",
        "\n",
        "accuracy = accuracy_score(y_test, y_pred)\n",
        "print('Accuracy: {}'.format(accuracy))\n",
        "\n",
        "rmse = root_mean_squared_error(y_test, y_pred)\n",
        "print('RMSE: {}'.format(rmse))"
      ]
    },
    {
      "cell_type": "code",
      "execution_count": 5,
      "metadata": {
        "colab": {
          "base_uri": "https://localhost:8080/"
        },
        "id": "M_VrX2mZjHBl",
        "outputId": "a0993b4b-1eb8-47d6-d247-88bb8079e8df"
      },
      "outputs": [
        {
          "name": "stdout",
          "output_type": "stream",
          "text": [
            "Example 23\n",
            " True: 0, Predicted: 0\n",
            "Example 17\n",
            " True: 2, Predicted: 2\n",
            "Example 2\n",
            " True: 0, Predicted: 0\n",
            "Example 29\n",
            " True: 0, Predicted: 0\n",
            "Example 15\n",
            " True: 0, Predicted: 0\n"
          ]
        }
      ],
      "source": [
        "num_examples = 5\n",
        "random_indices = np.random.choice(len(X_test), num_examples)\n",
        "\n",
        "for index in random_indices:\n",
        "    true_label = y_test[index]\n",
        "    predicted_label = y_pred[index]\n",
        "\n",
        "    print('Example {}\\n True: {}, Predicted: {}'.format(index + 1, true_label, predicted_label))"
      ]
    },
    {
      "cell_type": "markdown",
      "metadata": {
        "id": "Dw7KUU6SmYj6"
      },
      "source": [
        "## 2.2 Different combinations of features"
      ]
    },
    {
      "cell_type": "code",
      "execution_count": 6,
      "metadata": {
        "id": "Mh4i4ikim4aX"
      },
      "outputs": [],
      "source": [
        "from itertools import combinations\n",
        "\n",
        "def generateCombinations(matrix):\n",
        "\n",
        "    cols = matrix.shape[1]\n",
        "    combs = {}\n",
        "\n",
        "    for r in range(1, cols + 1):\n",
        "        for comb in combinations(range(cols), r):\n",
        "            combs[comb] = matrix[:, comb]\n",
        "\n",
        "    return combs"
      ]
    },
    {
      "cell_type": "code",
      "execution_count": 7,
      "metadata": {
        "id": "XFkE9kJsns_i"
      },
      "outputs": [],
      "source": [
        "cols_combs = generateCombinations(X)"
      ]
    },
    {
      "cell_type": "code",
      "execution_count": 8,
      "metadata": {
        "colab": {
          "base_uri": "https://localhost:8080/"
        },
        "id": "72MDiW37n0y-",
        "outputId": "6aa6e5b8-05ac-4910-e691-f75b68bd4102"
      },
      "outputs": [
        {
          "name": "stdout",
          "output_type": "stream",
          "text": [
            "Columns: (0,)\n",
            " Accuracy: 0.36666666666666664,\n",
            " RMSE: 1.0645812948447542\n",
            "----------------------------------------\n",
            "Columns: (1,)\n",
            " Accuracy: 0.6,\n",
            " RMSE: 1.0488088481701516\n",
            "----------------------------------------\n",
            "Columns: (2,)\n",
            " Accuracy: 0.7,\n",
            " RMSE: 0.5477225575051661\n",
            "----------------------------------------\n",
            "Columns: (3,)\n",
            " Accuracy: 0.7,\n",
            " RMSE: 0.5477225575051661\n",
            "----------------------------------------\n",
            "Columns: (0, 1)\n",
            " Accuracy: 0.6333333333333333,\n",
            " RMSE: 0.6055300708194983\n",
            "----------------------------------------\n",
            "Columns: (0, 2)\n",
            " Accuracy: 0.7,\n",
            " RMSE: 0.5477225575051661\n",
            "----------------------------------------\n",
            "Columns: (0, 3)\n",
            " Accuracy: 0.7,\n",
            " RMSE: 0.5477225575051661\n",
            "----------------------------------------\n",
            "Columns: (1, 2)\n",
            " Accuracy: 0.8666666666666667,\n",
            " RMSE: 0.3651483716701107\n",
            "----------------------------------------\n",
            "Columns: (1, 3)\n",
            " Accuracy: 0.9,\n",
            " RMSE: 0.31622776601683794\n",
            "----------------------------------------\n",
            "Columns: (2, 3)\n",
            " Accuracy: 0.7,\n",
            " RMSE: 0.5477225575051661\n",
            "----------------------------------------\n",
            "Columns: (0, 1, 2)\n",
            " Accuracy: 0.7333333333333333,\n",
            " RMSE: 0.5163977794943222\n",
            "----------------------------------------\n",
            "Columns: (0, 1, 3)\n",
            " Accuracy: 0.7,\n",
            " RMSE: 0.5477225575051661\n",
            "----------------------------------------\n",
            "Columns: (0, 2, 3)\n",
            " Accuracy: 0.7333333333333333,\n",
            " RMSE: 0.5163977794943222\n",
            "----------------------------------------\n",
            "Columns: (1, 2, 3)\n",
            " Accuracy: 0.8666666666666667,\n",
            " RMSE: 0.3651483716701107\n",
            "----------------------------------------\n",
            "Columns: (0, 1, 2, 3)\n",
            " Accuracy: 0.8,\n",
            " RMSE: 0.4472135954999579\n",
            "----------------------------------------\n"
          ]
        }
      ],
      "source": [
        "resultados = {}\n",
        "\n",
        "for comb in cols_combs.keys():\n",
        "\n",
        "    X_comb = cols_combs[comb]\n",
        "\n",
        "    X_train, X_test, y_train, y_test = train_test_split(X_comb, y, test_size=0.2, random_state=42)\n",
        "\n",
        "    perceptron = Perceptron()\n",
        "    perceptron.fit(X_train, y_train)\n",
        "\n",
        "    y_pred = perceptron.predict(X_test)\n",
        "\n",
        "    accuracy = accuracy_score(y_test, y_pred)\n",
        "\n",
        "    rmse = root_mean_squared_error(y_test, y_pred)\n",
        "\n",
        "    resultados[comb] = {'Accuracy': accuracy, 'RMSE': rmse}\n",
        "\n",
        "    print('Columns: {}\\n Accuracy: {},\\n RMSE: {}'.format(comb, accuracy, rmse))\n",
        "    print('----------------------------------------')"
      ]
    },
    {
      "cell_type": "code",
      "execution_count": 9,
      "metadata": {
        "colab": {
          "base_uri": "https://localhost:8080/"
        },
        "id": "VqPJwniYFjFo",
        "outputId": "d030b5ec-5f12-4715-bdd8-59b8985a692e"
      },
      "outputs": [
        {
          "name": "stdout",
          "output_type": "stream",
          "text": [
            "Best Combination: (1, 3)\n",
            "Accuracy: 0.9000\n",
            "RMSE: 0.3162\n"
          ]
        }
      ],
      "source": [
        "best_comb = max(resultados, key=lambda x: resultados[x]['Accuracy'])\n",
        "best_result = resultados[best_comb]\n",
        "\n",
        "print('Best Combination: {}'.format(best_comb))\n",
        "print('Accuracy: {:.4f}'.format(best_result['Accuracy']))\n",
        "print('RMSE: {:.4f}'.format(best_result['RMSE']))"
      ]
    },
    {
      "cell_type": "markdown",
      "metadata": {
        "id": "-c09hS3rp8DN"
      },
      "source": [
        "## 2.3 Dimensionality Reduction"
      ]
    },
    {
      "cell_type": "code",
      "execution_count": 10,
      "metadata": {
        "id": "oSKQwZgEpv3T"
      },
      "outputs": [],
      "source": [
        "pca = PCA(n_components = 2)\n",
        "\n",
        "X_reduced = pca.fit_transform(X)"
      ]
    },
    {
      "cell_type": "code",
      "execution_count": 11,
      "metadata": {
        "colab": {
          "base_uri": "https://localhost:8080/"
        },
        "id": "C2cK5sHJF9ql",
        "outputId": "fd78b04a-e2a0-400d-9802-d8f1442d6963"
      },
      "outputs": [
        {
          "data": {
            "text/plain": [
              "array([[-2.68412563,  0.31939725],\n",
              "       [-2.71414169, -0.17700123],\n",
              "       [-2.88899057, -0.14494943],\n",
              "       [-2.74534286, -0.31829898]])"
            ]
          },
          "execution_count": 11,
          "metadata": {},
          "output_type": "execute_result"
        }
      ],
      "source": [
        "X_reduced[:4]"
      ]
    },
    {
      "cell_type": "code",
      "execution_count": 12,
      "metadata": {
        "colab": {
          "base_uri": "https://localhost:8080/"
        },
        "id": "gnLhCfHYF-h3",
        "outputId": "854f2897-371f-40c3-fe62-349e104652aa"
      },
      "outputs": [
        {
          "name": "stdout",
          "output_type": "stream",
          "text": [
            "Accuracy: 0.8666666666666667\n",
            "RMSE: 0.3651483716701107\n"
          ]
        }
      ],
      "source": [
        "X_train, X_test, y_train, y_test = train_test_split(X_reduced, y, test_size=0.2, random_state=42)\n",
        "\n",
        "perceptron = Perceptron()\n",
        "perceptron.fit(X_train, y_train)\n",
        "\n",
        "y_pred = perceptron.predict(X_test)\n",
        "\n",
        "accuracy = accuracy_score(y_test, y_pred)\n",
        "print(f'Accuracy: {accuracy}')\n",
        "\n",
        "rmse = root_mean_squared_error(y_test, y_pred)\n",
        "print(f'RMSE: {rmse}')"
      ]
    },
    {
      "cell_type": "markdown",
      "metadata": {},
      "source": [
        "# 3. Conclusion\n",
        "\n",
        "- The Perceptron demonstrated superior performance in terms of accuracy when using columns 1 and 3 of the Iris dataset. This result was better compared to using all columns, all possible combinations of columns, and even the application of dimensionality reduction to 2 components."
      ]
    }
  ],
  "metadata": {
    "colab": {
      "collapsed_sections": [
        "jmCvRkpZmNVZ"
      ],
      "provenance": []
    },
    "kernelspec": {
      "display_name": "Python 3",
      "name": "python3"
    },
    "language_info": {
      "codemirror_mode": {
        "name": "ipython",
        "version": 3
      },
      "file_extension": ".py",
      "mimetype": "text/x-python",
      "name": "python",
      "nbconvert_exporter": "python",
      "pygments_lexer": "ipython3",
      "version": "3.11.8"
    }
  },
  "nbformat": 4,
  "nbformat_minor": 0
}
